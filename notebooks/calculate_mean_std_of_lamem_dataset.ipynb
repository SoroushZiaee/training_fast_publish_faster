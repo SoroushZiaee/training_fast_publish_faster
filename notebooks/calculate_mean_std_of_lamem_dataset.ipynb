{
 "cells": [
  {
   "cell_type": "code",
   "execution_count": null,
   "metadata": {},
   "outputs": [
    {
     "ename": "",
     "evalue": "",
     "output_type": "error",
     "traceback": [
      "\u001b[1;31mRunning cells with 'venv (Python 3.9.6)' requires the ipykernel package.\n",
      "\u001b[1;31mRun the following command to install 'ipykernel' into the Python environment. \n",
      "\u001b[1;31mCommand: '/home/soroush1/projects/def-kohitij/soroush1/training_fast_publish_faster/venv/bin/python3.9 -m pip install ipykernel -U --force-reinstall'"
     ]
    }
   ],
   "source": [
    "%load_ext lab_black\n",
    "%load_ext autoreload\n",
    "%autoreload 2"
   ]
  },
  {
   "cell_type": "code",
   "execution_count": null,
   "metadata": {},
   "outputs": [],
   "source": [
    "import sys\n",
    "\n",
    "if not \"..\" in sys.path:\n",
    "    sys.path.append(\"..\")\n",
    "    \n",
    "import torch\n",
    "from torchvision.transforms import ToPILImage\n",
    "import matplotlib.pyplot as plt\n",
    "import numpy as np\n",
    "\n",
    "from datasets.LaMem.LaMemDataset import LaMem"
   ]
  },
  {
   "cell_type": "code",
   "execution_count": null,
   "metadata": {},
   "outputs": [],
   "source": [
    "%%timeit\n",
    "from time import time\n",
    "\n",
    "start = time()\n",
    "root = \"/home/soroush1/projects/def-kohitij/soroush1/pretrain-imagenet/data/LaMem/preprocessed/dataset\"\n",
    "\n",
    "data = LitLaMemDataModule(root=root, num_workers=20, batch_size=96, dev_mode=True)\n",
    "data.setup(\"train\")\n",
    "\n",
    "train_dl = data.train_dataloader()\n",
    "x, y = next(iter(train_dl))\n",
    "\n",
    "# print(f\"{abs(start - time())}\")\n",
    "print(f\"{x.size() = }\")\n",
    "\n",
    "\n",
    "\n",
    "\n",
    "import gc\n",
    "\n",
    "del data, train_dl, x, y\n",
    "gc.collect()"
   ]
  }
 ],
 "metadata": {
  "kernelspec": {
   "display_name": "venv",
   "language": "python",
   "name": "python3"
  },
  "language_info": {
   "name": "python",
   "version": "3.9.6"
  }
 },
 "nbformat": 4,
 "nbformat_minor": 2
}
