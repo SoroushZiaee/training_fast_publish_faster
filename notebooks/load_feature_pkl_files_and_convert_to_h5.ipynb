{
 "cells": [
  {
   "cell_type": "code",
   "execution_count": 1,
   "metadata": {},
   "outputs": [
    {
     "name": "stdout",
     "output_type": "stream",
     "text": [
      "Looking in links: /cvmfs/soft.computecanada.ca/custom/python/wheelhouse/gentoo2023/x86-64-v3, /cvmfs/soft.computecanada.ca/custom/python/wheelhouse/gentoo2023/generic, /cvmfs/soft.computecanada.ca/custom/python/wheelhouse/generic\n",
      "\u001b[31mERROR: Could not find a version that satisfies the requirement h5py (from versions: none)\u001b[0m\u001b[31m\n",
      "\u001b[0m\u001b[31mERROR: No matching distribution found for h5py\u001b[0m\u001b[31m\n",
      "\u001b[0m"
     ]
    }
   ],
   "source": [
    "!pip install h5py"
   ]
  },
  {
   "cell_type": "code",
   "execution_count": 4,
   "metadata": {},
   "outputs": [
    {
     "ename": "ModuleNotFoundError",
     "evalue": "No module named 'h5py'",
     "output_type": "error",
     "traceback": [
      "\u001b[0;31m---------------------------------------------------------------------------\u001b[0m",
      "\u001b[0;31mModuleNotFoundError\u001b[0m                       Traceback (most recent call last)",
      "Cell \u001b[0;32mIn[4], line 3\u001b[0m\n\u001b[1;32m      1\u001b[0m \u001b[38;5;28;01mimport\u001b[39;00m \u001b[38;5;21;01mpickle\u001b[39;00m\n\u001b[1;32m      2\u001b[0m \u001b[38;5;28;01mimport\u001b[39;00m \u001b[38;5;21;01mos\u001b[39;00m\n\u001b[0;32m----> 3\u001b[0m \u001b[38;5;28;01mimport\u001b[39;00m \u001b[38;5;21;01mh5py\u001b[39;00m\n",
      "\u001b[0;31mModuleNotFoundError\u001b[0m: No module named 'h5py'"
     ]
    }
   ],
   "source": [
    "import pickle\n",
    "import os\n",
    "import h5py"
   ]
  },
  {
   "cell_type": "code",
   "execution_count": 4,
   "metadata": {},
   "outputs": [
    {
     "name": "stdout",
     "output_type": "stream",
     "text": [
      "dict_keys(['x', 'features.1', 'features.3', 'features.6', 'features.8', 'features.11', 'features.12', 'avgpool', 'classifier.1', 'classifier.3', 'classifier.6'])\n"
     ]
    }
   ],
   "source": [
    "feature_path = \"/home/soroush1/projects/def-kohitij/soroush1/training_fast_publish_faster/model_features\"\n",
    "\n",
    "it_layer_dict = {\n",
    "    \"alexnet\": \"features.12\",\n",
    "    \"resnet50\": \"layer3.2.bn1\",\n",
    "    \"resnet101\": \"layer3.2.bn1\",\n",
    "    \"vgg16\": \"features.30\",\n",
    "    \"vgg19\": \"features.36\",\n",
    "    \"inception_v3\": \"Mixed_7a.branch3x3_1.bn\",\n",
    "}\n",
    "\n",
    "tasks = [\"imagenet\", \"lamem\", \"lamem_shuffle\"]\n",
    "\n",
    "with open(os.path.join(feature_path, \"alexnet_imagenet.pkl\"), \"rb\") as fin:\n",
    "    features = pickle.load(fin)\n",
    "\n",
    "print(features.keys())"
   ]
  },
  {
   "cell_type": "code",
   "execution_count": null,
   "metadata": {},
   "outputs": [],
   "source": [
    "# write a function to take, feature_path, and model_name, and task_name, and save .h5 file\n",
    "# for that model and task\n",
    "# then call this function for all models and tasks\n",
    "\n",
    "def save_h5(feature_path, model_name, task_name, layer_name):\n",
    "    with open(os.path.join(feature_path, f\"{model_name}_{task_name}.pkl\"), \"rb\") as fin:\n",
    "        features = pickle.load(fin)\n",
    "        \n",
    "    data = features[layer_name]\n",
    "    \n",
    "    # Save the NumPy array as a .h5 file\n",
    "    with h5py.File(f'{model_name}_{task_name}.h5', 'w') as hf:\n",
    "        hf.create_dataset('dataset_name', data=data)\n",
    "        \n",
    "    "
   ]
  }
 ],
 "metadata": {
  "kernelspec": {
   "display_name": "venv",
   "language": "python",
   "name": "python3"
  },
  "language_info": {
   "codemirror_mode": {
    "name": "ipython",
    "version": 3
   },
   "file_extension": ".py",
   "mimetype": "text/x-python",
   "name": "python",
   "nbconvert_exporter": "python",
   "pygments_lexer": "ipython3",
   "version": "3.9.6"
  }
 },
 "nbformat": 4,
 "nbformat_minor": 2
}
