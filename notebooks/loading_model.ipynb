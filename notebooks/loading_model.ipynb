{
 "cells": [
  {
   "cell_type": "code",
   "execution_count": 1,
   "id": "a3728125-eda2-4ddd-974d-7c2f78a9f7a8",
   "metadata": {},
   "outputs": [],
   "source": [
    "import torch as ch"
   ]
  },
  {
   "cell_type": "code",
   "execution_count": 3,
   "id": "077c020f-d4de-44af-ab08-bc69bc934f95",
   "metadata": {},
   "outputs": [],
   "source": [
    "path = \"/home/soroush1/projects/def-kohitij/soroush1/training_fast_publish_faster/weights/aa43d53a-6c1a-4ca0-b9e5-b33c4b2d2f9a/checkpoint_epoch_70_0.64.pth\"\n",
    "checkpoint = ch.load(path)"
   ]
  },
  {
   "cell_type": "code",
   "execution_count": 4,
   "id": "61429c0b-6abe-49a6-854d-9a0276c3be6d",
   "metadata": {},
   "outputs": [
    {
     "data": {
      "text/plain": [
       "dict_keys(['epoch', 'model_state_dict', 'optimizer_state_dict'])"
      ]
     },
     "execution_count": 4,
     "metadata": {},
     "output_type": "execute_result"
    }
   ],
   "source": [
    "checkpoint.keys()"
   ]
  }
 ],
 "metadata": {
  "kernelspec": {
   "display_name": "Python 3 (ipykernel)",
   "language": "python",
   "name": "python3"
  },
  "language_info": {
   "codemirror_mode": {
    "name": "ipython",
    "version": 3
   },
   "file_extension": ".py",
   "mimetype": "text/x-python",
   "name": "python",
   "nbconvert_exporter": "python",
   "pygments_lexer": "ipython3",
   "version": "3.9.6"
  }
 },
 "nbformat": 4,
 "nbformat_minor": 5
}
