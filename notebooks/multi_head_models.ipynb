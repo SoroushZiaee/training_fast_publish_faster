{
 "cells": [
  {
   "cell_type": "code",
   "execution_count": 1,
   "id": "db5c1f2e-ed5c-4dbf-bda0-8332af97fc57",
   "metadata": {},
   "outputs": [],
   "source": [
    "from torchvision.models import resnet50\n",
    "import torch.nn as nn\n",
    "import torch as ch"
   ]
  },
  {
   "cell_type": "code",
   "execution_count": 2,
   "id": "56f0f7c9-35da-4e1b-9db0-1e1f114a1a5a",
   "metadata": {},
   "outputs": [],
   "source": [
    "class MutiHeadModel(ch.nn.Module):\n",
    "    def __init__(self, model):\n",
    "        super().__init__()\n",
    "        self.model = model\n",
    "        num_features = model.fc.out_features\n",
    "        \n",
    "        self.regression = nn.Sequential(\n",
    "                nn.Linear(num_features, 1),\n",
    "                nn.Sigmoid()\n",
    "            )\n",
    "\n",
    "    def forward(self, x):\n",
    "        clf_out = self.model(x)\n",
    "        reg_out = self.regression(clf_out)\n",
    "\n",
    "        return clf_out, reg_out\n",
    "\n",
    "model = resnet50(weights=None)\n",
    "multi_head_model = MutiHeadModel(model)\n",
    "\n",
    "batch_size = 20\n",
    "image_size = 256\n",
    "num_channels = 3  # RGB images\n",
    "\n",
    "# Create random input data\n",
    "input_data = ch.randn(batch_size, num_channels, image_size, image_size)\n",
    "\n",
    "clf_out, reg_out = multi_head_model(input_data)\n",
    "\n",
    "# Check the output dimensions\n",
    "assert clf_out.shape == (batch_size, 1000), f\"Classification output shape is incorrect: {clf_out.shape}\"\n",
    "assert reg_out.shape == (batch_size, 1), f\"Regression output shape is incorrect: {reg_out.shape}\""
   ]
  },
  {
   "cell_type": "code",
   "execution_count": 3,
   "id": "3e2e70e9-de07-4346-90a2-4cae563379de",
   "metadata": {},
   "outputs": [
    {
     "name": "stdout",
     "output_type": "stream",
     "text": [
      "everything is loaded completely\n"
     ]
    },
    {
     "name": "stderr",
     "output_type": "stream",
     "text": [
      "1it [00:04,  4.37s/it]"
     ]
    },
    {
     "name": "stdout",
     "output_type": "stream",
     "text": [
      "0: labs = tensor([0.9211, 0.8684, 0.9535, 0.9487, 0.7778, 0.7632, 0.5909, 0.6000, 0.8333,\n",
      "        0.7660, 0.9535, 0.7750, 0.7429, 0.8936, 0.9167, 0.4750, 0.9143, 0.7750,\n",
      "        0.6176, 0.7907], device='cuda:0', dtype=torch.float64)\n",
      "0: ims.size() = torch.Size([20, 3, 256, 256])\n",
      "0: ims.float().mean() = tensor(115.7043, device='cuda:0')\n"
     ]
    },
    {
     "name": "stderr",
     "output_type": "stream",
     "text": [
      "2it [00:04,  2.08s/it]"
     ]
    },
    {
     "name": "stdout",
     "output_type": "stream",
     "text": [
      "1: labs = tensor([0.6809, 0.8333, 0.8333, 0.8667, 0.8500, 0.7778, 0.6341, 0.6818, 0.8462,\n",
      "        0.7500, 0.8421, 0.7727, 0.6250, 0.8235, 0.8462, 0.7179, 0.8600, 0.8000,\n",
      "        0.4634, 0.8000], device='cuda:0', dtype=torch.float64)\n",
      "1: ims.size() = torch.Size([20, 3, 256, 256])\n",
      "1: ims.float().mean() = tensor(111.5663, device='cuda:0')\n"
     ]
    },
    {
     "name": "stderr",
     "output_type": "stream",
     "text": [
      "3it [00:05,  1.33s/it]"
     ]
    },
    {
     "name": "stdout",
     "output_type": "stream",
     "text": [
      "2: labs = tensor([0.7727, 0.8684, 0.7805, 0.8605, 0.7778, 0.5526, 0.8485, 0.8947, 0.7179,\n",
      "        0.7250, 0.6429, 0.8333, 0.8421, 0.8919, 0.8667, 0.6486, 0.4545, 0.7778,\n",
      "        0.7619, 0.9091], device='cuda:0', dtype=torch.float64)\n",
      "2: ims.size() = torch.Size([20, 3, 256, 256])\n",
      "2: ims.float().mean() = tensor(106.5431, device='cuda:0')\n"
     ]
    },
    {
     "name": "stderr",
     "output_type": "stream",
     "text": [
      "4it [00:05,  1.01it/s]"
     ]
    },
    {
     "name": "stdout",
     "output_type": "stream",
     "text": [
      "3: labs = tensor([0.8421, 0.8261, 0.7292, 0.7619, 0.4615, 0.9394, 0.8684, 0.7619, 0.4545,\n",
      "        0.9355, 0.7551, 0.5122, 0.7297, 0.9302, 0.5526, 0.8462, 0.8611, 0.7353,\n",
      "        0.8140, 0.6154], device='cuda:0', dtype=torch.float64)\n",
      "3: ims.size() = torch.Size([20, 3, 256, 256])\n",
      "3: ims.float().mean() = tensor(108.0992, device='cuda:0')\n"
     ]
    },
    {
     "name": "stderr",
     "output_type": "stream",
     "text": [
      "5it [00:06,  1.29it/s]"
     ]
    },
    {
     "name": "stdout",
     "output_type": "stream",
     "text": [
      "4: labs = tensor([0.7959, 0.9429, 0.7556, 0.6757, 0.6429, 0.8421, 0.8718, 0.7647, 0.8049,\n",
      "        0.9024, 0.8250, 0.6750, 0.7353, 0.6053, 0.8462, 0.7632, 0.6429, 0.8529,\n",
      "        0.7568, 0.7692], device='cuda:0', dtype=torch.float64)\n",
      "4: ims.size() = torch.Size([20, 3, 256, 256])\n",
      "4: ims.float().mean() = tensor(108.2030, device='cuda:0')\n"
     ]
    },
    {
     "name": "stderr",
     "output_type": "stream",
     "text": [
      "5it [00:06,  1.30s/it]"
     ]
    },
    {
     "name": "stdout",
     "output_type": "stream",
     "text": [
      "5: labs = tensor([0.9118, 0.8125, 0.7000, 0.6667, 0.6389, 0.8444, 0.9474, 0.7600, 0.5641,\n",
      "        0.9000, 0.8889, 0.7500, 0.9111, 0.6250, 0.8333, 0.6279, 0.8205, 0.8250,\n",
      "        0.9118, 0.8919], device='cuda:0', dtype=torch.float64)\n",
      "5: ims.size() = torch.Size([20, 3, 256, 256])\n",
      "5: ims.float().mean() = tensor(107.0769, device='cuda:0')\n"
     ]
    },
    {
     "name": "stderr",
     "output_type": "stream",
     "text": [
      "\n"
     ]
    }
   ],
   "source": [
    "from ffcv.loader import Loader, OrderOption\n",
    "from ffcv.transforms import (\n",
    "    ToTensor,\n",
    "    ToDevice,\n",
    "    Squeeze,\n",
    "    NormalizeImage,\n",
    "    RandomHorizontalFlip,\n",
    "    ToTorchImage,\n",
    "    Convert\n",
    ")\n",
    "from ffcv.fields.rgb_image import (\n",
    "    CenterCropRGBImageDecoder,\n",
    "    RandomResizedCropRGBImageDecoder,\n",
    ")\n",
    "from ffcv.fields.basics import IntDecoder, FloatDecoder\n",
    "\n",
    "import torch as ch\n",
    "\n",
    "import numpy as np\n",
    "import time\n",
    "\n",
    "from tqdm import tqdm\n",
    "\n",
    "print(\"everything is loaded completely\")\n",
    "\n",
    "train_dataset = \"/home/soroush1/projects/def-kohitij/soroush1/training_fast_publish_faster/data/lamem_train_256.ffcv\"\n",
    "num_workers = 1\n",
    "batch_size = 20\n",
    "distributed = 0\n",
    "in_memory = True\n",
    "this_device = \"cuda:0\"\n",
    "\n",
    "LAMEM_MEAN = np.load(\n",
    "    \"/home/soroush1/projects/def-kohitij/soroush1/pretrain-imagenet/datasets/LaMem/support_files/image_mean.npy\"\n",
    ")\n",
    "\n",
    "res = 256\n",
    "\n",
    "decoder = RandomResizedCropRGBImageDecoder((res, res))\n",
    "image_pipeline = [\n",
    "    decoder,\n",
    "    RandomHorizontalFlip(),\n",
    "    ToTensor(),\n",
    "    ToDevice(ch.device(this_device), non_blocking=True),\n",
    "    ToTorchImage(),\n",
    "    Convert(ch.float16)\n",
    "    # NormalizeImage(IMAGENET_MEAN, IMAGENET_STD, np.float16),\n",
    "]\n",
    "\n",
    "label_pipeline = [\n",
    "    FloatDecoder(),\n",
    "    ToTensor(),\n",
    "    Squeeze(),\n",
    "    ToDevice(ch.device(this_device), non_blocking=True),\n",
    "]\n",
    "\n",
    "order = OrderOption.RANDOM if distributed else OrderOption.QUASI_RANDOM\n",
    "\n",
    "loader = Loader(\n",
    "    train_dataset,\n",
    "    batch_size=batch_size,\n",
    "    num_workers=num_workers,\n",
    "    order=order,\n",
    "    os_cache=in_memory,\n",
    "    drop_last=True,\n",
    "    pipelines={\"image\": image_pipeline, \"label\": label_pipeline},\n",
    "    distributed=distributed,\n",
    ")\n",
    "\n",
    "\n",
    "multi_head_model.to(this_device)\n",
    "for i, (ims, labs) in tqdm(enumerate(loader)):\n",
    "    print(f\"{i}: {labs = }\")\n",
    "    print(f\"{i}: {ims.size() = }\")\n",
    "    print(f\"{i}: {ims.float().mean() = }\")\n",
    "\n",
    "    # with autocast():\n",
    "    #     clf, reg = multi_head_model(ims)\n",
    "\n",
    "    # print(f\"{clf.size() = }\")\n",
    "    # print(f\"{reg.size() = }\")\n",
    "    \n",
    "    if i == 5:\n",
    "        break"
   ]
  },
  {
   "cell_type": "code",
   "execution_count": 5,
   "id": "a80c2af8-ec52-42cf-8959-5fa6ff78e44d",
   "metadata": {},
   "outputs": [
    {
     "name": "stdout",
     "output_type": "stream",
     "text": [
      "everything is loaded completely\n"
     ]
    },
    {
     "name": "stderr",
     "output_type": "stream",
     "text": [
      "5it [00:02,  1.68it/s]"
     ]
    },
    {
     "name": "stdout",
     "output_type": "stream",
     "text": [
      "0: labs = tensor([395, 718, 241, 356, 671, 312,  66, 656, 396, 462, 733, 925, 242, 851,\n",
      "        670, 357, 308, 734, 356, 913], device='cuda:0')\n",
      "0: ims.size() = torch.Size([20, 3, 256, 256])\n",
      "0: ims.mean() = tensor(115.9375, device='cuda:0', dtype=torch.float16)\n",
      "1: labs = tensor([169, 472, 318, 671, 925, 817, 241, 308, 396,  67, 105, 472, 913, 809,\n",
      "        357, 632,  33, 312, 242, 549], device='cuda:0')\n",
      "1: ims.size() = torch.Size([20, 3, 256, 256])\n",
      "1: ims.mean() = tensor(101.4375, device='cuda:0', dtype=torch.float16)\n",
      "2: labs = tensor([950, 307, 460, 460, 949, 460, 821, 671, 551, 241, 310, 105, 949, 551,\n",
      "        871,  12, 851, 105, 461, 853], device='cuda:0')\n",
      "2: ims.size() = torch.Size([20, 3, 256, 256])\n",
      "2: ims.mean() = tensor(119.0625, device='cuda:0', dtype=torch.float16)\n",
      "3: labs = tensor([851, 657, 578, 809, 549, 809, 513, 396, 103, 733, 396, 513, 396, 307,\n",
      "        954, 818, 733, 170, 396, 949], device='cuda:0')\n",
      "3: ims.size() = torch.Size([20, 3, 256, 256])\n",
      "3: ims.mean() = tensor(127.0625, device='cuda:0', dtype=torch.float16)\n",
      "4: labs = tensor([395, 808, 105,  12, 551, 817, 462, 105, 949, 671, 242, 308, 461,  12,\n",
      "        609, 103, 632, 170,  66, 310], device='cuda:0')\n",
      "4: ims.size() = torch.Size([20, 3, 256, 256])\n",
      "4: ims.mean() = tensor(104.6875, device='cuda:0', dtype=torch.float16)\n",
      "5: labs = tensor([461, 462, 170, 662, 718, 718, 169, 880, 357, 105, 551, 879, 732, 396,\n",
      "        308, 913, 318, 170, 105, 105], device='cuda:0')\n",
      "5: ims.size() = torch.Size([20, 3, 256, 256])\n",
      "5: ims.mean() = tensor(114.9375, device='cuda:0', dtype=torch.float16)\n"
     ]
    },
    {
     "name": "stderr",
     "output_type": "stream",
     "text": [
      "\n"
     ]
    }
   ],
   "source": [
    "from ffcv.loader import Loader, OrderOption\n",
    "from ffcv.transforms import (\n",
    "    ToTensor,\n",
    "    ToDevice,\n",
    "    Squeeze,\n",
    "    NormalizeImage,\n",
    "    RandomHorizontalFlip,\n",
    "    ToTorchImage,\n",
    "Convert\n",
    ")\n",
    "from ffcv.fields.rgb_image import (\n",
    "    CenterCropRGBImageDecoder,\n",
    "    RandomResizedCropRGBImageDecoder,\n",
    ")\n",
    "from ffcv.fields.basics import IntDecoder, FloatDecoder\n",
    "\n",
    "import torch as ch\n",
    "\n",
    "import numpy as np\n",
    "import time\n",
    "\n",
    "from tqdm import tqdm\n",
    "from torch.cuda.amp import autocast\n",
    "\n",
    "print(\"everything is loaded completely\")\n",
    "\n",
    "train_dataset = \"/home/soroush1/projects/def-kohitij/soroush1/training_fast_publish_faster/data/imagenet_train_256.ffcv\"\n",
    "num_workers = 1\n",
    "batch_size = 20\n",
    "distributed = 0\n",
    "in_memory = True\n",
    "this_device = \"cuda:0\"\n",
    "\n",
    "IMAGENET_MEAN = np.array([0.485, 0.456, 0.406]) * 255\n",
    "IMAGENET_STD = np.array([0.229, 0.224, 0.225]) * 255\n",
    "DEFAULT_CROP_RATIO = 224 / 256\n",
    "\n",
    "res = 256\n",
    "\n",
    "decoder = RandomResizedCropRGBImageDecoder((res, res))\n",
    "image_pipeline = [\n",
    "    decoder,\n",
    "    RandomHorizontalFlip(),\n",
    "    ToTensor(),\n",
    "    ToDevice(ch.device(this_device), non_blocking=True),\n",
    "    ToTorchImage(),\n",
    "    Convert(ch.float16)\n",
    "    # NormalizeImage(IMAGENET_MEAN, IMAGENET_STD, np.float16),\n",
    "]\n",
    "\n",
    "label_pipeline = [\n",
    "    IntDecoder(),\n",
    "    ToTensor(),\n",
    "    Squeeze(),\n",
    "    ToDevice(ch.device(this_device), non_blocking=True),\n",
    "]\n",
    "\n",
    "order = OrderOption.RANDOM if distributed else OrderOption.QUASI_RANDOM\n",
    "\n",
    "loader = Loader(\n",
    "    train_dataset,\n",
    "    batch_size=batch_size,\n",
    "    num_workers=num_workers,\n",
    "    order=order,\n",
    "    os_cache=in_memory,\n",
    "    drop_last=True,\n",
    "    pipelines={\"image\": image_pipeline, \"label\": label_pipeline},\n",
    "    distributed=distributed,\n",
    ")\n",
    "\n",
    "\n",
    "# multi_head_model.to(this_device)\n",
    "for i, (ims, labs) in tqdm(enumerate(loader)):\n",
    "    print(f\"{i}: {labs = }\")\n",
    "    print(f\"{i}: {ims.size() = }\")\n",
    "    print(f\"{i}: {ims.mean() = }\")\n",
    "    \n",
    "    # # with autocast():\n",
    "    # clf, reg = multi_head_model(ims)\n",
    "\n",
    "    # print(f\"{clf.size() = }\")\n",
    "    # print(f\"{reg.size() = }\")\n",
    "    \n",
    "    if i == 5:\n",
    "        break"
   ]
  },
  {
   "cell_type": "code",
   "execution_count": 24,
   "id": "fff980f3-bb9e-460e-b429-b6dd64cfd191",
   "metadata": {},
   "outputs": [],
   "source": [
    "LAMEM_MEAN = np.load(\n",
    "    \"/home/soroush1/projects/def-kohitij/soroush1/pretrain-imagenet/datasets/LaMem/support_files/image_mean.npy\"\n",
    ")"
   ]
  },
  {
   "cell_type": "code",
   "execution_count": 26,
   "id": "9702b88e-60b1-41ee-a1cd-75d79b794ba3",
   "metadata": {},
   "outputs": [
    {
     "data": {
      "text/plain": [
       "(256, 256, 3)"
      ]
     },
     "execution_count": 26,
     "metadata": {},
     "output_type": "execute_result"
    }
   ],
   "source": [
    "LAMEM_MEAN.shape"
   ]
  }
 ],
 "metadata": {
  "kernelspec": {
   "display_name": "Python 3 (ipykernel)",
   "language": "python",
   "name": "python3"
  },
  "language_info": {
   "codemirror_mode": {
    "name": "ipython",
    "version": 3
   },
   "file_extension": ".py",
   "mimetype": "text/x-python",
   "name": "python",
   "nbconvert_exporter": "python",
   "pygments_lexer": "ipython3",
   "version": "3.9.6"
  }
 },
 "nbformat": 4,
 "nbformat_minor": 5
}
