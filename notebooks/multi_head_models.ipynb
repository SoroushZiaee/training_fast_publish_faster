{
 "cells": [
  {
   "cell_type": "code",
   "execution_count": 2,
   "id": "db5c1f2e-ed5c-4dbf-bda0-8332af97fc57",
   "metadata": {},
   "outputs": [],
   "source": [
    "from torchvision.models import resnet50\n",
    "import torch.nn as nn\n",
    "import torch as ch"
   ]
  },
  {
   "cell_type": "code",
   "execution_count": 15,
   "id": "256202ca-7adf-4b32-a786-8a3bb76a478f",
   "metadata": {},
   "outputs": [],
   "source": [
    "model = resnet50(weights=None)"
   ]
  },
  {
   "cell_type": "code",
   "execution_count": 21,
   "id": "56f0f7c9-35da-4e1b-9db0-1e1f114a1a5a",
   "metadata": {},
   "outputs": [],
   "source": [
    "class MutiHeadModel(ch.nn.Module):\n",
    "    def __init__(self, model):\n",
    "        super().__init__()\n",
    "        self.model = model\n",
    "        num_features = model.fc.out_features\n",
    "        \n",
    "        self.regression = nn.Sequential(\n",
    "                nn.Linear(num_features, 1),\n",
    "                nn.Sigmoid()\n",
    "            )\n",
    "\n",
    "    def forward(self, x):\n",
    "        clf_out = self.model(x)\n",
    "        reg_out = self.regression(clf_out)\n",
    "\n",
    "        return clf_out, reg_out\n",
    "\n",
    "multi_head_model = MutiHeadModel(model)\n",
    "\n",
    "batch_size = 20\n",
    "image_size = 256\n",
    "num_channels = 3  # RGB images\n",
    "\n",
    "# Create random input data\n",
    "input_data = ch.randn(batch_size, num_channels, image_size, image_size)\n",
    "\n",
    "clf_out, reg_out = multi_head_model(input_data)\n",
    "\n",
    "# Check the output dimensions\n",
    "assert clf_out.shape == (batch_size, 1000), f\"Classification output shape is incorrect: {clf_out.shape}\"\n",
    "assert reg_out.shape == (batch_size, 1), f\"Regression output shape is incorrect: {reg_out.shape}\""
   ]
  }
 ],
 "metadata": {
  "kernelspec": {
   "display_name": "Python 3 (ipykernel)",
   "language": "python",
   "name": "python3"
  },
  "language_info": {
   "codemirror_mode": {
    "name": "ipython",
    "version": 3
   },
   "file_extension": ".py",
   "mimetype": "text/x-python",
   "name": "python",
   "nbconvert_exporter": "python",
   "pygments_lexer": "ipython3",
   "version": "3.9.6"
  }
 },
 "nbformat": 4,
 "nbformat_minor": 5
}
