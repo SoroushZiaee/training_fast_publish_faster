{
 "cells": [
  {
   "cell_type": "code",
   "execution_count": 44,
   "id": "5f2d5b12-619e-47cc-b4bb-7e845a7e5237",
   "metadata": {},
   "outputs": [
    {
     "ename": "ImportError",
     "evalue": "cannot import name 'RandomResizedCropRGBImageDecoder' from 'ffcv.transforms' (/project/6067616/soroush1/training_fast_publish_faster/.venv/lib/python3.9/site-packages/ffcv/transforms/__init__.py)",
     "output_type": "error",
     "traceback": [
      "\u001b[0;31m---------------------------------------------------------------------------\u001b[0m",
      "\u001b[0;31mImportError\u001b[0m                               Traceback (most recent call last)",
      "Cell \u001b[0;32mIn[44], line 4\u001b[0m\n\u001b[1;32m      1\u001b[0m \u001b[38;5;28;01mfrom\u001b[39;00m \u001b[38;5;21;01mffcv\u001b[39;00m\u001b[38;5;21;01m.\u001b[39;00m\u001b[38;5;21;01mloader\u001b[39;00m \u001b[38;5;28;01mimport\u001b[39;00m Loader, OrderOption\n\u001b[1;32m      2\u001b[0m \u001b[38;5;28;01mfrom\u001b[39;00m \u001b[38;5;21;01mffcv\u001b[39;00m\u001b[38;5;21;01m.\u001b[39;00m\u001b[38;5;21;01mfields\u001b[39;00m\u001b[38;5;21;01m.\u001b[39;00m\u001b[38;5;21;01mdecoders\u001b[39;00m \u001b[38;5;28;01mimport\u001b[39;00m NDArrayDecoder, FloatDecoder\n\u001b[0;32m----> 4\u001b[0m \u001b[38;5;28;01mfrom\u001b[39;00m \u001b[38;5;21;01mffcv\u001b[39;00m\u001b[38;5;21;01m.\u001b[39;00m\u001b[38;5;21;01mtransforms\u001b[39;00m \u001b[38;5;28;01mimport\u001b[39;00m ToTensor, RandomHorizontalFlip, ToTorchImage, Convert, RandomResizedCropRGBImageDecoder\n\u001b[1;32m      5\u001b[0m \u001b[38;5;28;01mimport\u001b[39;00m \u001b[38;5;21;01mtorch\u001b[39;00m \u001b[38;5;28;01mas\u001b[39;00m \u001b[38;5;21;01mch\u001b[39;00m\n",
      "\u001b[0;31mImportError\u001b[0m: cannot import name 'RandomResizedCropRGBImageDecoder' from 'ffcv.transforms' (/project/6067616/soroush1/training_fast_publish_faster/.venv/lib/python3.9/site-packages/ffcv/transforms/__init__.py)"
     ]
    }
   ],
   "source": [
    "from ffcv.loader import Loader, OrderOption\n",
    "from ffcv.fields.decoders import NDArrayDecoder, FloatDecoder\n",
    "\n",
    "from ffcv.transforms import ToTensor, RandomHorizontalFlip, ToTorchImage, Convert, RandomResizedCropRGBImageDecoder\n",
    "import torch as ch"
   ]
  },
  {
   "cell_type": "code",
   "execution_count": 45,
   "id": "8849b521-2ef2-482c-890a-fcbf43de242b",
   "metadata": {},
   "outputs": [],
   "source": [
    "BATCH_SIZE = 32\n",
    "NUM_WORKERS = 1\n",
    "IMAGE_PATH = \"../data/transformed_lamem_256_train.ffcv\"\n",
    "loader = Loader(IMAGE_PATH,\n",
    "                batch_size=BATCH_SIZE,\n",
    "                num_workers=NUM_WORKERS,\n",
    "                order=OrderOption.RANDOM,\n",
    "                pipelines={\n",
    "                  'image': [NDArrayDecoder(), RandomHorizontalFlip(), ToTensor(), Convert(ch.float16), ToTorchImage(channels_last=False)],\n",
    "                  'label': [FloatDecoder(), ToTensor()]\n",
    "                })\n",
    "               # )"
   ]
  },
  {
   "cell_type": "code",
   "execution_count": 46,
   "id": "f61eec84-0ad6-4a95-81bd-f9f2306a900f",
   "metadata": {},
   "outputs": [
    {
     "data": {
      "text/plain": [
       "(torch.Size([32, 3, 256, 256]), torch.float16, torch.float64)"
      ]
     },
     "execution_count": 46,
     "metadata": {},
     "output_type": "execute_result"
    }
   ],
   "source": [
    "img, lbl = next(iter(loader))\n",
    "img.size(), img.dtype, lbl.dtype"
   ]
  }
 ],
 "metadata": {
  "kernelspec": {
   "display_name": "Python 3 (ipykernel)",
   "language": "python",
   "name": "python3"
  },
  "language_info": {
   "codemirror_mode": {
    "name": "ipython",
    "version": 3
   },
   "file_extension": ".py",
   "mimetype": "text/x-python",
   "name": "python",
   "nbconvert_exporter": "python",
   "pygments_lexer": "ipython3",
   "version": "3.9.6"
  }
 },
 "nbformat": 4,
 "nbformat_minor": 5
}
