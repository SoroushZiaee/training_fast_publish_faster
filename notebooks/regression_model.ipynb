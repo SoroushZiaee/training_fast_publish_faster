{
 "cells": [
  {
   "cell_type": "code",
   "execution_count": 1,
   "metadata": {},
   "outputs": [],
   "source": [
    "# %load_ext lab_black\n",
    "%load_ext autoreload\n",
    "%autoreload 2\n",
    "# %matplotlib inline"
   ]
  },
  {
   "cell_type": "code",
   "execution_count": 2,
   "metadata": {},
   "outputs": [
    {
     "name": "stdout",
     "output_type": "stream",
     "text": [
      "1.9\n"
     ]
    }
   ],
   "source": [
    "import sympy\n",
    "print(sympy.__version__)"
   ]
  },
  {
   "cell_type": "code",
   "execution_count": 15,
   "metadata": {},
   "outputs": [],
   "source": [
    "import torch\n",
    "from torchvision.models import alexnet, vgg16"
   ]
  },
  {
   "cell_type": "code",
   "execution_count": 31,
   "metadata": {},
   "outputs": [
    {
     "name": "stdout",
     "output_type": "stream",
     "text": [
      "The number of features in the last layer is: 1000\n"
     ]
    }
   ],
   "source": [
    "import torch.nn as nn\n",
    "\n",
    "def get_last_layer_features(model: nn.Module) -> int:\n",
    "    \"\"\"\n",
    "    Get the number of input features for the last linear layer of the model.\n",
    "    \n",
    "    Args:\n",
    "        model (nn.Module): The neural network model.\n",
    "    \n",
    "    Returns:\n",
    "        int: The number of input features for the last linear layer.\n",
    "    \"\"\"\n",
    "    for layer in reversed(list(model.children())):\n",
    "        if isinstance(layer, nn.Sequential):\n",
    "            for sub_layer in reversed(list(layer.children())):\n",
    "                if isinstance(sub_layer, nn.Linear):\n",
    "                    return sub_layer.out_features\n",
    "        elif isinstance(layer, nn.Linear):\n",
    "            return layer.out_features\n",
    "    raise ValueError(\"No linear layer found in the model\")\n",
    "\n",
    "# Example usage:\n",
    "# Assuming 'model' is your pre-trained model\n",
    "\n",
    "model = vgg16()\n",
    "num_features = get_last_layer_features(model)\n",
    "print(f\"The number of features in the last layer is: {num_features}\")"
   ]
  },
  {
   "cell_type": "code",
   "execution_count": 33,
   "metadata": {},
   "outputs": [
    {
     "data": {
      "text/plain": [
       "torch.Size([1, 1000])"
      ]
     },
     "execution_count": 33,
     "metadata": {},
     "output_type": "execute_result"
    }
   ],
   "source": [
    "random_image = torch.rand((1, 3, 256, 256))\n",
    "output = model(random_image)\n",
    "output.size()"
   ]
  },
  {
   "cell_type": "code",
   "execution_count": 38,
   "metadata": {},
   "outputs": [],
   "source": [
    "import torch as ch\n",
    "\n",
    "class RegressionModel(ch.nn.Module):\n",
    "    def __init__(self, model):\n",
    "        super().__init__()\n",
    "        out_features = self.get_last_layer_features(model)\n",
    "        self.model = model\n",
    "        self.regression_layer = ch.nn.Sequential(\n",
    "            ch.nn.Linear(out_features, 1),  # Adjust this if your final layer is different\n",
    "            ch.nn.Sigmoid()\n",
    "        )\n",
    "\n",
    "    def forward(self, x):\n",
    "        x = self.model(x)\n",
    "        print(f\"{x.size() = }\")\n",
    "        # x = x.squeeze_()\n",
    "        # print(f\"{x.size() = }\")\n",
    "        x = self.regression_layer(x)\n",
    "        return x\n",
    "    \n",
    "    @staticmethod\n",
    "    def get_last_layer_features(model: ch.nn.Module) -> int:\n",
    "        \"\"\"\n",
    "        Get the number of input features for the last linear layer of the model.\n",
    "        \n",
    "        Args:\n",
    "            model (nn.Module): The neural network model.\n",
    "        \n",
    "        Returns:\n",
    "            int: The number of input features for the last linear layer.\n",
    "        \"\"\"\n",
    "        for layer in reversed(list(model.children())):\n",
    "            if isinstance(layer, ch.nn.Sequential):\n",
    "                for sub_layer in reversed(list(layer.children())):\n",
    "                    if isinstance(sub_layer, ch.nn.Linear):\n",
    "                        return sub_layer.out_features\n",
    "            elif isinstance(layer, ch.nn.Linear):\n",
    "                return layer.out_features\n",
    "        raise ValueError(\"No linear layer found in the model\")"
   ]
  },
  {
   "cell_type": "code",
   "execution_count": 41,
   "metadata": {},
   "outputs": [
    {
     "name": "stdout",
     "output_type": "stream",
     "text": [
      "x.size() = torch.Size([10, 1000])\n"
     ]
    }
   ],
   "source": [
    "regـmodel = RegressionModel(model)\n",
    "random_image = torch.rand((10, 3, 256, 256))\n",
    "output = regـmodel(random_image)"
   ]
  },
  {
   "cell_type": "code",
   "execution_count": 42,
   "metadata": {},
   "outputs": [
    {
     "data": {
      "text/plain": [
       "torch.Size([10, 1])"
      ]
     },
     "execution_count": 42,
     "metadata": {},
     "output_type": "execute_result"
    }
   ],
   "source": [
    "output.size()"
   ]
  },
  {
   "cell_type": "code",
   "execution_count": 43,
   "metadata": {},
   "outputs": [
    {
     "data": {
      "text/plain": [
       "tensor([[0.5050],\n",
       "        [0.5020],\n",
       "        [0.5012],\n",
       "        [0.4953],\n",
       "        [0.5007],\n",
       "        [0.4956],\n",
       "        [0.4989],\n",
       "        [0.4959],\n",
       "        [0.4934],\n",
       "        [0.5028]], grad_fn=<SigmoidBackward0>)"
      ]
     },
     "execution_count": 43,
     "metadata": {},
     "output_type": "execute_result"
    }
   ],
   "source": [
    "output"
   ]
  },
  {
   "cell_type": "code",
   "execution_count": null,
   "metadata": {},
   "outputs": [],
   "source": []
  }
 ],
 "metadata": {
  "kernelspec": {
   "display_name": "Python 3 (ipykernel)",
   "language": "python",
   "name": "python3"
  },
  "language_info": {
   "codemirror_mode": {
    "name": "ipython",
    "version": 3
   },
   "file_extension": ".py",
   "mimetype": "text/x-python",
   "name": "python",
   "nbconvert_exporter": "python",
   "pygments_lexer": "ipython3",
   "version": "3.9.6"
  }
 },
 "nbformat": 4,
 "nbformat_minor": 4
}
