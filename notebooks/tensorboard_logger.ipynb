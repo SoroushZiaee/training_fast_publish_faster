{
 "cells": [
  {
   "cell_type": "code",
   "execution_count": 3,
   "id": "7c801423-1e56-4ec4-a982-bf4543bd6f00",
   "metadata": {},
   "outputs": [],
   "source": [
    "import os\n",
    "from torch.utils.tensorboard import SummaryWriter"
   ]
  },
  {
   "cell_type": "code",
   "execution_count": 6,
   "id": "2e040d07-06d2-4777-9651-97e9d5582935",
   "metadata": {},
   "outputs": [
    {
     "name": "stdout",
     "output_type": "stream",
     "text": [
      "Logging to: ./logs/version_2\n"
     ]
    }
   ],
   "source": [
    "def get_next_version(log_dir):\n",
    "    \"\"\"\n",
    "    Get the next version number based on the existing directories.\n",
    "    \n",
    "    Parameters:\n",
    "    log_dir (str): The directory where logs are stored.\n",
    "    \n",
    "    Returns:\n",
    "    int: The next version number.\n",
    "    \"\"\"\n",
    "    if not os.path.exists(log_dir):\n",
    "        os.makedirs(log_dir)\n",
    "        return 0\n",
    "    \n",
    "    existing_versions = [d for d in os.listdir(log_dir) if os.path.isdir(os.path.join(log_dir, d))]\n",
    "    version_numbers = [int(d.split('_')[1]) for d in existing_versions if d.startswith('version_') and d.split('_')[1].isdigit()]\n",
    "    \n",
    "    if not version_numbers:\n",
    "        return 0\n",
    "    \n",
    "    return max(version_numbers) + 1\n",
    "\n",
    "def create_summary_writer(base_log_dir):\n",
    "    \"\"\"\n",
    "    Create a SummaryWriter logger with an incremented version number.\n",
    "    \n",
    "    Parameters:\n",
    "    base_log_dir (str): The base directory for the logs.\n",
    "    \n",
    "    Returns:\n",
    "    SummaryWriter: A SummaryWriter logger.\n",
    "    \"\"\"\n",
    "    next_version = get_next_version(base_log_dir)\n",
    "    log_dir = os.path.join(base_log_dir, f'version_{next_version}')\n",
    "    summary_writer = SummaryWriter(log_dir=log_dir)\n",
    "    \n",
    "    print(f\"Logging to: {log_dir}\")\n",
    "    return summary_writer\n",
    "\n",
    "# Example usage:\n",
    "base_log_dir = './logs'\n",
    "summary_writer = create_summary_writer(base_log_dir)\n",
    "\n",
    "# Now you can use the summary_writer to log your data\n",
    "# For example:\n",
    "# summary_writer.add_scalar('Loss/train', loss, epoch)\n",
    "# summary_writer.close()\n"
   ]
  },
  {
   "cell_type": "code",
   "execution_count": 10,
   "id": "2ef27210-aecc-4970-b467-11829dae60ae",
   "metadata": {},
   "outputs": [
    {
     "name": "stdout",
     "output_type": "stream",
     "text": [
      "Name: tensorboard\n",
      "Version: 2.14.1+computecanada\n",
      "Summary: TensorBoard lets you watch Tensors Flow\n",
      "Home-page: https://github.com/tensorflow/tensorboard\n",
      "Author: Google Inc.\n",
      "Author-email: packages@tensorflow.org\n",
      "License: None\n",
      "Location: /home/soroush1/.local/lib/python3.9/site-packages\n",
      "Requires: grpcio, google-auth, google-auth-oauthlib, werkzeug, markdown, requests, six, setuptools, protobuf, tensorboard-data-server, numpy, absl-py\n",
      "Required-by: tensorflow\n"
     ]
    },
    {
     "ename": "ModuleNotFoundError",
     "evalue": "No module named 'tensorboard'",
     "output_type": "error",
     "traceback": [
      "\u001b[0;31m---------------------------------------------------------------------------\u001b[0m",
      "\u001b[0;31mModuleNotFoundError\u001b[0m                       Traceback (most recent call last)",
      "Cell \u001b[0;32mIn[10], line 2\u001b[0m\n\u001b[1;32m      1\u001b[0m get_ipython()\u001b[38;5;241m.\u001b[39msystem(\u001b[38;5;124m'\u001b[39m\u001b[38;5;124mpip show tensorboard\u001b[39m\u001b[38;5;124m'\u001b[39m)\n\u001b[0;32m----> 2\u001b[0m \u001b[38;5;28;01mfrom\u001b[39;00m \u001b[38;5;21;01mtorch\u001b[39;00m\u001b[38;5;21;01m.\u001b[39;00m\u001b[38;5;21;01mutils\u001b[39;00m\u001b[38;5;21;01m.\u001b[39;00m\u001b[38;5;21;01mtensorboard\u001b[39;00m \u001b[38;5;28;01mimport\u001b[39;00m SummaryWriter\n",
      "File \u001b[0;32m/project/6067616/soroush1/training_fast_publish_faster/.venv/lib/python3.9/site-packages/torch/utils/tensorboard/__init__.py:1\u001b[0m\n\u001b[0;32m----> 1\u001b[0m \u001b[38;5;28;01mimport\u001b[39;00m \u001b[38;5;21;01mtensorboard\u001b[39;00m\n\u001b[1;32m      2\u001b[0m \u001b[38;5;28;01mfrom\u001b[39;00m \u001b[38;5;21;01mdistutils\u001b[39;00m\u001b[38;5;21;01m.\u001b[39;00m\u001b[38;5;21;01mversion\u001b[39;00m \u001b[38;5;28;01mimport\u001b[39;00m LooseVersion\n\u001b[1;32m      4\u001b[0m \u001b[38;5;28;01mif\u001b[39;00m \u001b[38;5;129;01mnot\u001b[39;00m \u001b[38;5;28mhasattr\u001b[39m(tensorboard, \u001b[38;5;124m\"\u001b[39m\u001b[38;5;124m__version__\u001b[39m\u001b[38;5;124m\"\u001b[39m) \u001b[38;5;129;01mor\u001b[39;00m LooseVersion(\n\u001b[1;32m      5\u001b[0m     tensorboard\u001b[38;5;241m.\u001b[39m__version__\n\u001b[1;32m      6\u001b[0m ) \u001b[38;5;241m<\u001b[39m LooseVersion(\u001b[38;5;124m\"\u001b[39m\u001b[38;5;124m1.15\u001b[39m\u001b[38;5;124m\"\u001b[39m):\n",
      "\u001b[0;31mModuleNotFoundError\u001b[0m: No module named 'tensorboard'"
     ]
    }
   ],
   "source": [
    "!pip show tensorboard\n",
    "from torch.utils.tensorboard import SummaryWriter"
   ]
  },
  {
   "cell_type": "code",
   "execution_count": null,
   "id": "f0bd0649-02d5-4182-9fb1-d4c6a4f5cd38",
   "metadata": {},
   "outputs": [],
   "source": []
  },
  {
   "cell_type": "code",
   "execution_count": null,
   "id": "1fdbdd6f-5d7b-4e7b-9b6d-4d6f4947736c",
   "metadata": {},
   "outputs": [],
   "source": []
  }
 ],
 "metadata": {
  "kernelspec": {
   "display_name": "Python 3 (ipykernel)",
   "language": "python",
   "name": "python3"
  },
  "language_info": {
   "codemirror_mode": {
    "name": "ipython",
    "version": 3
   },
   "file_extension": ".py",
   "mimetype": "text/x-python",
   "name": "python",
   "nbconvert_exporter": "python",
   "pygments_lexer": "ipython3",
   "version": "3.9.6"
  }
 },
 "nbformat": 4,
 "nbformat_minor": 5
}
